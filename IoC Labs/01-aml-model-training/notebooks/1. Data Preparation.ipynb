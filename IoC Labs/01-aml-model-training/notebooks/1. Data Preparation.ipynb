{
 "cells": [
  {
   "cell_type": "markdown",
   "metadata": {},
   "source": [
    "## Introduction to the COVID-19 Open Research Dataset\n",
    "\n",
    "The COVID-19 Open Research Dataset (CORD-19) is a collection of over 50,000 scholarly articles - including over 40,000 with full text - about COVID-19, SARS-CoV-2, and related coronaviruses. This dataset has been made freely available with the goal to aid research communities combat the COVID-19 pandemic. It has been made available by the Allen Institute for AI in partnership with leading research groups to prepare and distribute the COVID-19 Open Research Dataset (CORD-19), in response to the COVID-19 pandemic.\n",
    "\n",
    "During this lab you will learn how to process and analyze a subset of the articles present in the dataset, group them together into a series of clusters, and use Automated ML to train a machine learning model capable of classifying new articles as they are published."
   ]
  },
  {
   "cell_type": "markdown",
   "metadata": {},
   "source": [
    "### Setup\n",
    "\n",
    "We will start off by installing a few packages, such as `nltk` for text processing and `wordcloud`, `seaborn`, and `yellowbrick` for various visualizations."
   ]
  },
  {
   "cell_type": "code",
   "execution_count": null,
   "metadata": {},
   "outputs": [],
   "source": [
    "!pip install nltk\n",
    "!pip install wordcloud\n",
    "!pip install seaborn\n",
    "!pip install yellowbrick"
   ]
  },
  {
   "cell_type": "markdown",
   "metadata": {},
   "source": [
    "We'll first download stopwords and the Punkt tokenizer models present in the `nltk` package, in order to be able to process the articles"
   ]
  },
  {
   "cell_type": "code",
   "execution_count": null,
   "metadata": {},
   "outputs": [],
   "source": [
    "import nltk\n",
    "\n",
    "nltk.download('punkt')\n",
    "nltk.download('stopwords')"
   ]
  },
  {
   "cell_type": "markdown",
   "metadata": {},
   "source": [
    "We'll also import the rest of the modules needed in this notebook, and do a quick sanity-check on the Azure ML SDK version"
   ]
  },
  {
   "cell_type": "code",
   "execution_count": null,
   "metadata": {
    "gather": {
     "logged": 1610442370993
    },
    "nteract": {
     "transient": {
      "deleting": false
     }
    }
   },
   "outputs": [],
   "source": [
    "import os\n",
    "import json\n",
    "from string import punctuation\n",
    "\n",
    "import pandas as pd\n",
    "import seaborn as sns\n",
    "sns.set_palette('Set2')\n",
    "from wordcloud import WordCloud\n",
    "import matplotlib.pyplot as plt\n",
    "from yellowbrick.cluster import KElbowVisualizer\n",
    "from gensim.models.doc2vec import Doc2Vec, TaggedDocument\n",
    "from sklearn.manifold import TSNE\n",
    "from sklearn.decomposition import PCA\n",
    "from sklearn.model_selection import train_test_split\n",
    "from sklearn.cluster import KMeans, SpectralClustering, DBSCAN, Birch, AgglomerativeClustering\n",
    "from sklearn.metrics import roc_auc_score\n",
    "from nltk import word_tokenize, sent_tokenize\n",
    "from nltk.stem import SnowballStemmer, PorterStemmer\n",
    "\n",
    "from azureml.core import Workspace, Datastore, Dataset, VERSION\n",
    "\n",
    "print(\"Azure ML SDK Version: \", VERSION)"
   ]
  },
  {
   "cell_type": "markdown",
   "metadata": {},
   "source": [
    "## Load the Covid-19 data\n",
    "\n",
    "CORD-19 has been uploaded as an Azure Open Dataset, we will connect to it and use it's API to download the dataset locally."
   ]
  },
  {
   "cell_type": "code",
   "execution_count": null,
   "metadata": {
    "gather": {
     "logged": 1610442384900
    }
   },
   "outputs": [],
   "source": [
    "covid_dirname = 'covid19temp'\n",
    "\n",
    "cord19_dataset = Dataset.File.from_files('https://azureopendatastorage.blob.core.windows.net/' + covid_dirname)\n",
    "mount = cord19_dataset.mount()\n",
    "\n",
    "covid_dirpath = os.path.join(mount.mount_point, covid_dirname)"
   ]
  },
  {
   "cell_type": "markdown",
   "metadata": {},
   "source": [
    "Display a sample of the dataset (top 5 rows)."
   ]
  },
  {
   "cell_type": "code",
   "execution_count": null,
   "metadata": {
    "gather": {
     "logged": 1610442521618
    },
    "nteract": {
     "transient": {
      "deleting": false
     }
    }
   },
   "outputs": [],
   "source": [
    "mount.start()\n",
    "\n",
    "# Load metadata.csv, as it contains a list of all the articles and their corresponding titles/authors/contents.\n",
    "metadata_filename = os.path.join(covid_dirpath, 'metadata.csv')\n",
    "\n",
    "metadata = pd.read_csv(metadata_filename)\n",
    "metadata.sample(5)"
   ]
  },
  {
   "cell_type": "markdown",
   "metadata": {},
   "source": [
    "Some of the articles do not have any associated documents, so we will filter those out."
   ]
  },
  {
   "cell_type": "code",
   "execution_count": null,
   "metadata": {
    "nteract": {
     "transient": {
      "deleting": false
     }
    }
   },
   "outputs": [],
   "source": [
    "metadata_with_docs = metadata[metadata['pdf_json_files'].isna() == False]\n",
    "\n",
    "print(f'Dataset contains {metadata.shape[0]} entries, out of which {metadata_with_docs.shape[0]} have associated json documents')"
   ]
  },
  {
   "cell_type": "markdown",
   "metadata": {},
   "source": [
    "Display the percentage of items in the dataset that have associated JSON documents (research papers that have extra metadata associated with them)."
   ]
  },
  {
   "cell_type": "code",
   "execution_count": null,
   "metadata": {},
   "outputs": [],
   "source": [
    "doc_counts = [metadata_with_docs.shape[0], metadata.shape[0] - metadata_with_docs.shape[0]]\n",
    "doc_labels = ['Entries with associated json documents', 'Entries without any associated json documents']\n",
    "\n",
    "fig, ax = plt.subplots()\n",
    "ax.pie(doc_counts, labels=doc_labels, autopct='%1.1f%%')\n",
    "ax.axis('equal')\n",
    "plt.show()"
   ]
  },
  {
   "cell_type": "markdown",
   "metadata": {},
   "source": [
    "## Investigate individual items\n",
    "\n",
    "Let's load an example entry from the dataset."
   ]
  },
  {
   "cell_type": "code",
   "execution_count": null,
   "metadata": {
    "nteract": {
     "transient": {
      "deleting": false
     }
    }
   },
   "outputs": [],
   "source": [
    "# Change the document index in order to preview a different article\n",
    "DOCUMENT_INDEX = 0 \n",
    "example_entry = metadata_with_docs.iloc[DOCUMENT_INDEX]\n",
    "\n",
    "filepath = os.path.join(covid_dirpath, example_entry['pdf_json_files'])\n",
    "print(f'Document local filepath: {filepath}')"
   ]
  },
  {
   "cell_type": "markdown",
   "metadata": {},
   "source": [
    "Next, we will display the list of elements that are available for the selected document."
   ]
  },
  {
   "cell_type": "code",
   "execution_count": null,
   "metadata": {
    "nteract": {
     "transient": {
      "deleting": false
     }
    }
   },
   "outputs": [],
   "source": [
    "try:\n",
    "    with open(filepath, 'r') as f:\n",
    "        data = json.load(f)\n",
    "        \n",
    "except FileNotFoundError as e:\n",
    "    # in case the mount context has been closed\n",
    "    mount.start()\n",
    "    with open(filepath, 'r') as f:\n",
    "        data = json.load(f)\n",
    "        \n",
    "print(f'Data elements: { \", \".join(data.keys())}' )"
   ]
  },
  {
   "cell_type": "markdown",
   "metadata": {},
   "source": [
    "View the full text version of the document."
   ]
  },
  {
   "cell_type": "code",
   "execution_count": null,
   "metadata": {},
   "outputs": [],
   "source": [
    "for p in data['body_text']:\n",
    "    print(p['text'], '\\n')"
   ]
  },
  {
   "cell_type": "markdown",
   "metadata": {},
   "source": [
    "## Stop words\n",
    "\n",
    "Here's a quote from Stanford's NLP team that will provide some context on stop words and their intended usage:\n",
    "\n",
    "_\"Sometimes, some extremely common words which would appear to be of little value in helping select documents matching a user need are excluded from the vocabulary entirely. These words are called stop words . The general strategy for determining a stop list is to sort the terms by collection frequency (the total number of times each term appears in the document collection), and then to take the most frequent terms, often hand-filtered for their semantic content relative to the domain of the documents being indexed, as a stop list , the members of which are then discarded during indexing.\"_\n",
    "\n",
    "Let's investigate the stop words list that we will use to clean our data. Note that apart from the standard stopwords, we will also remove any punctuation and also any occurrences of *et al.*, as they are often found in academic articles."
   ]
  },
  {
   "cell_type": "code",
   "execution_count": null,
   "metadata": {},
   "outputs": [],
   "source": [
    "stop_tokens = nltk.corpus.stopwords.words('english') + list(punctuation) + ['et', 'al.']\n",
    "print(stop_tokens)"
   ]
  },
  {
   "cell_type": "markdown",
   "metadata": {},
   "source": [
    "The code below will be used to read the text associated with a series of articles, remove stop words from their text, and reduce) inflected words to their base form (stemming).\n",
    "\n",
    "**NOTE**:\n",
    "\n",
    "If you are not familiar with Python code, just execute the following cell and continue with the notebook. Understanding the code below is not require for understanding and following the overall flow of the notebook."
   ]
  },
  {
   "cell_type": "code",
   "execution_count": null,
   "metadata": {},
   "outputs": [],
   "source": [
    "class Reader:\n",
    "    \"\"\"Class used to read the files associated with an article\"\"\"\n",
    "    \n",
    "    def __init__(self):\n",
    "        self.stemmer = SnowballStemmer('english')\n",
    "    \n",
    "    def read_file_to_json(self, filepath):\n",
    "        try:\n",
    "            with open(filepath, 'r') as f:\n",
    "                data = json.load(f)\n",
    "        except FileNotFoundError as e:\n",
    "            mount.start()\n",
    "            with open(filepath, 'r') as f:\n",
    "                data = json.load(f)\n",
    "                \n",
    "        return data\n",
    "    \n",
    "    def parse_document(self, document_index):\n",
    "        document = metadata_with_docs.iloc[document_index]\n",
    "        \n",
    "        # One article can have multiple associated documents\n",
    "        words = []\n",
    "        for filename in document['pdf_json_files'].split('; '):\n",
    "            filepath = '{0}/{1}'.format(covid_dirpath, filename)\n",
    "            data = self.read_file_to_json(filepath)\n",
    "\n",
    "            # Split each paragraph into multiple sentences first, in order to improve the performance of the word tokenizer\n",
    "            text = data['body_text']\n",
    "            for paragraph in text:\n",
    "                p_sentences = sent_tokenize(paragraph['text'])\n",
    "\n",
    "                # Split each sentence into words, while making sure to remove the stopwords and stem the words\n",
    "                for p_sentence in p_sentences:\n",
    "                    sentence = [ self.stemmer.stem(word) for word in word_tokenize(p_sentence) if word.isalpha() and word.lower() not in stop_tokens ]\n",
    "                    words.extend(sentence)\n",
    "    \n",
    "        return (words, document['cord_uid'])\n",
    "        \n",
    "\n",
    "class Corpus:\n",
    "    \"\"\"An iterator that reads all sentences from the first N documents\"\"\"\n",
    "    \n",
    "    def __init__(self, n_documents):\n",
    "        self.n_documents = n_documents\n",
    "        self.stemmer = SnowballStemmer('english')\n",
    "        self.reader = Reader()\n",
    "        \n",
    "    def __iter__(self):\n",
    "         for document_index in range(0, self.n_documents):   \n",
    "            words, document_id = self.reader.parse_document(document_index)\n",
    "            yield TaggedDocument(words, document_id)\n",
    "            \n",
    "    def plain_iter(self):\n",
    "        for document_index in range(0, self.n_documents):  \n",
    "            words, document_id = self.reader.parse_document(document_index)\n",
    "            yield (words, document_id)"
   ]
  },
  {
   "cell_type": "markdown",
   "metadata": {},
   "source": [
    "## Encoding documents as vectors\n",
    "\n",
    "In this lab, we're using a subset of 1000 articles to train a Machine Learning model that encodes text documents into numerical vectors (a document embedding model). \n",
    "\n",
    "Training a document embedding model takes a significant amount of time, and for this reason we already provide a trained model. We also provide the code below in case you want to get more details about the process. Running the next two cells will result in loading the already existing model."
   ]
  },
  {
   "cell_type": "code",
   "execution_count": null,
   "metadata": {},
   "outputs": [],
   "source": [
    "N_DOCUMENTS = 500"
   ]
  },
  {
   "cell_type": "code",
   "execution_count": null,
   "metadata": {},
   "outputs": [],
   "source": [
    "%%time\n",
    "\n",
    "model_filename = f'covid_embeddings_model_{N_DOCUMENTS}_docs.w2v'\n",
    "\n",
    "if (os.path.exists(model_filename)):\n",
    "    model = Doc2Vec.load(model_filename)\n",
    "    print(f'Done, loaded word2vec model with { len(model.wv.vocab) } words.')\n",
    "else:\n",
    "    model = Doc2Vec(Corpus(N_DOCUMENTS), vector_size=128, batch_words=10)\n",
    "    model.save(model_filename)\n",
    "    print(f'Done, trained word2vec model with { len(model.wv.vocab) } words.')"
   ]
  },
  {
   "cell_type": "markdown",
   "metadata": {},
   "source": [
    "## Word frequencies\n",
    "\n",
    "Let's analyze the relative frequencies of words in the corpus of articles. We will display a word cloud to provide a visual representation of these relative frequencies."
   ]
  },
  {
   "cell_type": "code",
   "execution_count": null,
   "metadata": {},
   "outputs": [],
   "source": [
    "word_frequencies = { key: model.wv.vocab[key].count for key in model.wv.vocab }"
   ]
  },
  {
   "cell_type": "code",
   "execution_count": null,
   "metadata": {},
   "outputs": [],
   "source": [
    "cloud = WordCloud(width=1024, height=768).generate_from_frequencies(word_frequencies)\n",
    "plt.figure(figsize=(16,12))\n",
    "plt.imshow(cloud, interpolation='antialiased')\n",
    "plt.axis(\"off\")"
   ]
  },
  {
   "cell_type": "markdown",
   "metadata": {},
   "source": [
    "## Embedding documents\n",
    "\n",
    "Below is an example on how we embed (transform from text to numerical vector) one of the documents."
   ]
  },
  {
   "cell_type": "code",
   "execution_count": null,
   "metadata": {},
   "outputs": [],
   "source": [
    "words, doc_id = Reader().parse_document(DOCUMENT_INDEX)\n",
    "model.infer_vector(words)"
   ]
  },
  {
   "cell_type": "markdown",
   "metadata": {},
   "source": [
    "And this is an example of a trivial \"document\" (containing a single, trivial sentence) going through the same process. Notice how, regardless of the length of the sentence, the result vector is always the same size - the `vector_size` argument used while training the `Doc2Vec` model.\n",
    "\n",
    "This is very important in the following stages of the process, when we are working with multiple documents."
   ]
  },
  {
   "cell_type": "code",
   "execution_count": null,
   "metadata": {},
   "outputs": [],
   "source": [
    "model.infer_vector(['human', 'love', 'cat', 'dog'])"
   ]
  },
  {
   "cell_type": "markdown",
   "metadata": {},
   "source": [
    "The resulting vectors will look more or less similar, depending on how different the contents of the articles are themselves. See below the differences resulting from a single word change - some of the values significantly overlap, while others are quite different if not opposite."
   ]
  },
  {
   "cell_type": "code",
   "execution_count": null,
   "metadata": {},
   "outputs": [],
   "source": [
    "adult_vector = model.infer_vector(['adult', 'love', 'cat', 'dog'])\n",
    "child_vector = model.infer_vector(['child', 'love', 'cat', 'dog'])\n",
    "labels = range(0, 128) \n",
    "\n",
    "plt.bar(labels, adult_vector, align='center', alpha=0.5)\n",
    "plt.bar(labels, child_vector, align='center', alpha=0.5)\n",
    "plt.legend(['Adults', 'Children'])\n",
    "plt.show()"
   ]
  },
  {
   "cell_type": "markdown",
   "metadata": {},
   "source": [
    "Let's now do the same for the same for all the documents we're focusing on."
   ]
  },
  {
   "cell_type": "code",
   "execution_count": null,
   "metadata": {},
   "outputs": [],
   "source": [
    "%%time\n",
    "\n",
    "word_vectors = []\n",
    "ids = []\n",
    "\n",
    "for (words, doc_id) in Corpus(N_DOCUMENTS).plain_iter():\n",
    "    ids.append(doc_id)\n",
    "    word_vector = model.infer_vector(words)\n",
    "    word_vectors.append(word_vector)\n",
    "    if len(word_vectors) % 100 == 0:\n",
    "        print(f'Processed {len(word_vectors)} documents.')"
   ]
  },
  {
   "cell_type": "markdown",
   "metadata": {},
   "source": [
    "Now that we've finished reading the articles, we can dismount the dataset in order to free up resources"
   ]
  },
  {
   "cell_type": "code",
   "execution_count": null,
   "metadata": {},
   "outputs": [],
   "source": [
    "mount.stop()"
   ]
  },
  {
   "cell_type": "markdown",
   "metadata": {},
   "source": [
    "## Covid-19 documents prepared for Machine Learning\n",
    "\n",
    "We'll create a new DataFrame using the word vectors we've just calculated, this is the numerical form of the documents which is ready for Machine Learning workloads."
   ]
  },
  {
   "cell_type": "code",
   "execution_count": null,
   "metadata": {},
   "outputs": [],
   "source": [
    "wv_df = pd.DataFrame(word_vectors, index=ids)\n",
    "wv_df"
   ]
  },
  {
   "cell_type": "markdown",
   "metadata": {},
   "source": [
    "We'll join the DataFrame containing the numerical embeddings with the original dataset."
   ]
  },
  {
   "cell_type": "code",
   "execution_count": null,
   "metadata": {},
   "outputs": [],
   "source": [
    "indexed_metadata = metadata_with_docs.set_index('cord_uid')\n",
    "metadata_with_embeddings = pd.concat([indexed_metadata.iloc[:N_DOCUMENTS], wv_df], axis=1)\n",
    "metadata_with_embeddings"
   ]
  },
  {
   "cell_type": "markdown",
   "metadata": {},
   "source": [
    "## Preparing for clustering documents\n",
    "\n",
    "One of the challenges with clustering is to find the ideal number of clusters to look for. The elbow method is one of the most common approaches.\n",
    "\n",
    "We're visualizing an elbow metric (the \"distortion\" score) and trying to find a point where it stops decreasing with the number of clusters.\n"
   ]
  },
  {
   "cell_type": "code",
   "execution_count": null,
   "metadata": {},
   "outputs": [],
   "source": [
    "visualizer = KElbowVisualizer(KMeans(), k=(3,20))\n",
    "visualizer.fit(wv_df)\n",
    "\n",
    "visualizer.show()"
   ]
  },
  {
   "cell_type": "markdown",
   "metadata": {},
   "source": [
    "## Clustering documents\n",
    "\n",
    "We've determined the acceptable value for the clusters, so let's use Machine Learning to determine those clusters. We'll use the classic KMeans algorithm to do this."
   ]
  },
  {
   "cell_type": "code",
   "execution_count": null,
   "metadata": {},
   "outputs": [],
   "source": [
    "clusterer = KMeans(12 if visualizer.elbow_value_ > 12 else visualizer.elbow_value_)\n",
    "clusterer.fit(wv_df)\n",
    "clusters = clusterer.labels_"
   ]
  },
  {
   "cell_type": "markdown",
   "metadata": {},
   "source": [
    "We'll perform a quick visual check on the clusters. In order to be able to visualize 128 dimensions (which is the size of the word vectors) in a 2-D space, we'll use the PCA (Principal Component Analysis) dimensionality reduction technique. This will transform our 128-dimensional vectors into 2-dimensional ones that we can display."
   ]
  },
  {
   "cell_type": "code",
   "execution_count": null,
   "metadata": {},
   "outputs": [],
   "source": [
    "pca = PCA(n_components=2)\n",
    "pca.fit(wv_df)\n",
    "result = pca.transform(wv_df)"
   ]
  },
  {
   "cell_type": "markdown",
   "metadata": {},
   "source": [
    "Afterwards, we can plot the documents in a simple 2-D chart, and color each one according to their cluster"
   ]
  },
  {
   "cell_type": "code",
   "execution_count": null,
   "metadata": {},
   "outputs": [],
   "source": [
    "sns.set(rc={'figure.figsize':(10, 6), 'figure.facecolor':'white', 'axes.facecolor':'white'})\n",
    "\n",
    "color_palette = sns.color_palette('Paired')\n",
    "# Each cluster gets its own color from the palette\n",
    "cluster_colors = [color_palette[x] if x >= 0 else (0.5, 0.5, 0.5) for x in clusterer.labels_]\n",
    "plt.scatter(result[:,0], result[:,1], s=50, c=cluster_colors, alpha=0.75)\n",
    "\n",
    "plt.title(f'{N_DOCUMENTS} documents in {clusterer.n_clusters} clusters')\n",
    "plt.show()"
   ]
  },
  {
   "cell_type": "markdown",
   "metadata": {},
   "source": [
    "We'll add each article's cluster as new column to our combined dataset"
   ]
  },
  {
   "cell_type": "code",
   "execution_count": null,
   "metadata": {},
   "outputs": [],
   "source": [
    "metadata_with_clusters = metadata_with_embeddings\n",
    "metadata_with_clusters['cluster'] = clusters\n",
    "metadata_with_clusters"
   ]
  },
  {
   "cell_type": "markdown",
   "metadata": {},
   "source": [
    "We can now split our data into two datasets - a **training** one that will be used to train a Machine Learning model, able to determine the cluster that should be assigned to an article, and a **test** one that we'll use to test this classifier.\n",
    "\n",
    "We will allocate 80% of the articles to training the Machine Learning model, and the remaining 20% to testing it."
   ]
  },
  {
   "cell_type": "code",
   "execution_count": null,
   "metadata": {},
   "outputs": [],
   "source": [
    "train, test = train_test_split(metadata_with_clusters, train_size=0.8)\n",
    "train"
   ]
  },
  {
   "cell_type": "markdown",
   "metadata": {},
   "source": [
    "To speed up training, we'll ignore all columns except the word vectors calculated using Doc2Vec. For this reason, we will create a separate dataset just with the vectors."
   ]
  },
  {
   "cell_type": "code",
   "execution_count": null,
   "metadata": {},
   "outputs": [],
   "source": [
    "columns_to_ignore = ['sha', 'source_x', 'title', 'doi', 'pmcid', 'pubmed_id', 'license', 'abstract', 'publish_time', 'authors', 'journal', 'mag_id',\n",
    "                     'who_covidence_id', 'arxiv_id', 'pdf_json_files', 'pmc_json_files', 'url', 's2_id' ]\n",
    "train_data_vectors = train.drop(columns_to_ignore, axis=1)\n",
    "test_data_vectors = test.drop(columns_to_ignore, axis=1)"
   ]
  },
  {
   "cell_type": "markdown",
   "metadata": {},
   "source": [
    "## Register the training and testing datasets for AutoML availability\n",
    "\n",
    "We're registering the training and testing datasets with the Azure Machine Learning datastore to make them available inside Azure Machine Learning Studio and Automated ML."
   ]
  },
  {
   "cell_type": "code",
   "execution_count": null,
   "metadata": {},
   "outputs": [],
   "source": [
    "# Retrieve your ML workspace\n",
    "ws = Workspace.from_config()\n",
    "# Retrieve the workspace's default datastore\n",
    "datastore = ws.get_default_datastore()\n",
    "\n",
    "\n",
    "Dataset.Tabular.register_pandas_dataframe(train_data_vectors, datastore, 'COVID19Articles_Train_Vectors')\n",
    "Dataset.Tabular.register_pandas_dataframe(test_data_vectors, datastore, 'COVID19Articles_Test_Vectors')"
   ]
  },
  {
   "cell_type": "markdown",
   "metadata": {},
   "source": [
    "## Open Azure Machine Learning Studio\n",
    "\n",
    "Return to the GitHub repo and follow the instructions from there. You will use Automated ML in Azure Machine Learning Studio to train a classification model that predicts the document cluster for new research articles."
   ]
  }
 ],
 "metadata": {
  "kernel_info": {
   "name": "python3-azureml"
  },
  "kernelspec": {
   "display_name": "Python 3.6 - AzureML",
   "language": "python",
   "name": "python3-azureml"
  },
  "language_info": {
   "codemirror_mode": {
    "name": "ipython",
    "version": 3
   },
   "file_extension": ".py",
   "mimetype": "text/x-python",
   "name": "python",
   "nbconvert_exporter": "python",
   "pygments_lexer": "ipython3",
   "version": "3.6.9"
  },
  "nteract": {
   "version": "nteract-front-end@1.0.0"
  }
 },
 "nbformat": 4,
 "nbformat_minor": 4
}
